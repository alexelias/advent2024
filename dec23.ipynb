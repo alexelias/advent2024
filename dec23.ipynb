{
 "cells": [
  {
   "cell_type": "code",
   "execution_count": 34,
   "metadata": {},
   "outputs": [],
   "source": [
    "input = r\"\"\"kh-tc\n",
    "qp-kh\n",
    "de-cg\n",
    "ka-co\n",
    "yn-aq\n",
    "qp-ub\n",
    "cg-tb\n",
    "vc-aq\n",
    "tb-ka\n",
    "wh-tc\n",
    "yn-cg\n",
    "kh-ub\n",
    "ta-co\n",
    "de-co\n",
    "tc-td\n",
    "tb-wq\n",
    "wh-td\n",
    "ta-ka\n",
    "td-qp\n",
    "aq-cg\n",
    "wq-ub\n",
    "ub-vc\n",
    "de-ta\n",
    "wq-aq\n",
    "wq-vc\n",
    "wh-yn\n",
    "ka-de\n",
    "kh-ta\n",
    "co-tc\n",
    "wh-qp\n",
    "tb-vc\n",
    "td-yn\n",
    "\"\"\""
   ]
  },
  {
   "cell_type": "code",
   "execution_count": 35,
   "metadata": {},
   "outputs": [
    {
     "name": "stdout",
     "output_type": "stream",
     "text": [
      "{('tb', 'vc', 'wq'), ('qp', 'td', 'wh'), ('td', 'wh', 'yn'), ('tc', 'td', 'wh'), ('de', 'ka', 'ta'), ('co', 'de', 'ta'), ('co', 'ka', 'ta')}\n",
      "7\n"
     ]
    }
   ],
   "source": [
    "# part 1\n",
    "\n",
    "import networkx as nx\n",
    "\n",
    "graph = nx.parse_adjlist(input.splitlines(), nodetype=str, delimiter='-')\n",
    "\n",
    "#trios = set()\n",
    "#for node in graph.nodes():\n",
    "#    nearbyNodes = list(nx.dfs_preorder_nodes(graph, source = node, depth_limit = 1))\n",
    "#    for index, other in enumerate(nearbyNodes):\n",
    "#        if (index == 0): continue\n",
    "#        if (index == len(nearbyNodes) - 1): break\n",
    "#        for other2 in nearbyNodes[index+1:]:\n",
    "#            trio = sorted([node, other, other2])\n",
    "#            trios.add(tuple(trio))\n",
    "\n",
    "cliques = nx.enumerate_all_cliques(graph)\n",
    "\n",
    "trios = set()\n",
    "for clique in cliques:\n",
    "    if (len(clique) < 3): continue\n",
    "    if (len(clique) > 3): break\n",
    "    trios.add(tuple(sorted(clique)))\n",
    "\n",
    "#print (trios)\n",
    "#print (len(trios))\n",
    "\n",
    "techTrios = set()\n",
    "for trio in trios:\n",
    "    for name in trio:\n",
    "        if (name[0] == 't'): techTrios.add(trio)\n",
    "\n",
    "print (techTrios)\n",
    "print (len(techTrios))\n",
    "\n",
    "\n",
    "    \n",
    "\n",
    "\n",
    "\n",
    "\n"
   ]
  },
  {
   "cell_type": "code",
   "execution_count": 36,
   "metadata": {},
   "outputs": [
    {
     "name": "stdout",
     "output_type": "stream",
     "text": [
      "co,de,ka,ta\n"
     ]
    }
   ],
   "source": [
    "# part 2\n",
    "\n",
    "import networkx as nx\n",
    "\n",
    "graph = nx.parse_adjlist(input.splitlines(), nodetype=str, delimiter='-')\n",
    "\n",
    "max_cliques = nx.find_cliques(graph)\n",
    "largest_clique = tuple()\n",
    "for clique in max_cliques:\n",
    "   if (len(clique) > len(largest_clique)):\n",
    "      largest_clique = tuple(sorted(clique))\n",
    "\n",
    "print (*largest_clique, sep = \",\")\n",
    "\n"
   ]
  }
 ],
 "metadata": {
  "kernelspec": {
   "display_name": ".venv",
   "language": "python",
   "name": "python3"
  },
  "language_info": {
   "codemirror_mode": {
    "name": "ipython",
    "version": 3
   },
   "file_extension": ".py",
   "mimetype": "text/x-python",
   "name": "python",
   "nbconvert_exporter": "python",
   "pygments_lexer": "ipython3",
   "version": "3.13.0"
  }
 },
 "nbformat": 4,
 "nbformat_minor": 2
}

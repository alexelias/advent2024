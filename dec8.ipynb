{
 "cells": [
  {
   "cell_type": "code",
   "execution_count": 1,
   "metadata": {},
   "outputs": [],
   "source": [
    "input = r\"\"\"............\n",
    "........0...\n",
    ".....0......\n",
    ".......0....\n",
    "....0.......\n",
    "......A.....\n",
    "............\n",
    "............\n",
    "........A...\n",
    ".........A..\n",
    "............\n",
    "............\"\"\""
   ]
  },
  {
   "cell_type": "code",
   "execution_count": null,
   "metadata": {},
   "outputs": [
    {
     "name": "stdout",
     "output_type": "stream",
     "text": [
      "12 12 {'0': [Point(x=1, y=8), Point(x=2, y=5), Point(x=3, y=7), Point(x=4, y=4)], 'A': [Point(x=5, y=6), Point(x=8, y=8), Point(x=9, y=9)]}\n",
      "0 Point(x=3, y=2)\n",
      "0 Point(x=5, y=6)\n",
      "0 Point(x=7, y=0)\n",
      "0 Point(x=0, y=11)\n",
      "0 Point(x=4, y=9)\n",
      "0 Point(x=6, y=3)\n",
      "0 Point(x=1, y=3)\n",
      "0 Point(x=5, y=1)\n",
      "0 Point(x=0, y=6)\n",
      "0 Point(x=2, y=10)\n",
      "A Point(x=11, y=10)\n",
      "A Point(x=2, y=4)\n",
      "A Point(x=10, y=10)\n",
      "A Point(x=1, y=3)\n",
      "A Point(x=7, y=7)\n",
      "14\n"
     ]
    }
   ],
   "source": [
    "from typing import List, Dict\n",
    "from collections import namedtuple\n",
    "\n",
    "Point = namedtuple('Point', ['x', 'y'])\n",
    "\n",
    "dict: dict = {}\n",
    "for row, line in enumerate(input.splitlines()):\n",
    "   height = row + 1\n",
    "#   print(row, line)\n",
    "   for column, char in enumerate(line):\n",
    "#     print(column, char)\n",
    "      width = column + 1\n",
    "      if (char != \".\"):\n",
    "        dict.setdefault(char, []).append(Point(row, column))\n",
    "\n",
    "print (width, height, dict)\n",
    "\n",
    "antinodes: set[Point] = set()\n",
    "for type, pts in dict.items():\n",
    "   for pt1 in dict[type]:\n",
    "     for pt2 in dict[type]:\n",
    "       if pt2 == pt1: continue\n",
    "       #print (type, pt1, pt2)\n",
    "       antinode = Point((pt2.x - pt1.x) * 2 + pt1.x, (pt2.y - pt1.y) * 2 + pt1.y)\n",
    "       if (antinode.x >= width or antinode.y >= height or antinode.x < 0 or antinode.y < 0): continue\n",
    "       antinodes.add(antinode)\n",
    "       #print (type, antinode)\n",
    "\n",
    "print(len(antinodes))"
   ]
  }
 ],
 "metadata": {
  "kernelspec": {
   "display_name": ".venv",
   "language": "python",
   "name": "python3"
  },
  "language_info": {
   "codemirror_mode": {
    "name": "ipython",
    "version": 3
   },
   "file_extension": ".py",
   "mimetype": "text/x-python",
   "name": "python",
   "nbconvert_exporter": "python",
   "pygments_lexer": "ipython3",
   "version": "3.13.0"
  }
 },
 "nbformat": 4,
 "nbformat_minor": 2
}

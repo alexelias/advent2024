{
 "cells": [
  {
   "cell_type": "code",
   "execution_count": 1,
   "metadata": {
    "metadata": {}
   },
   "outputs": [
    {
     "name": "stdout",
     "output_type": "stream",
     "text": [
      "3: 1 2\n",
      "8: 2 4\n",
      "5: 10 20\n",
      "10: 1 2 3 4\n",
      "24: 1 2 3 4\n"
     ]
    }
   ],
   "source": [
    "advent_input = (\"3: 1 2\" # True +\n",
    "\"\\n8: 2 4\" # True *\n",
    "\"\\n5: 10 20\" # False\n",
    "\"\\n10: 1 2 3 4\" # True +++\n",
    "\"\\n24: 1 2 3 4\" # True ++*\n",
    ")\n",
    "print(advent_input)"
   ]
  },
  {
   "cell_type": "code",
   "execution_count": 2,
   "metadata": {
    "metadata": {}
   },
   "outputs": [
    {
     "name": "stdout",
     "output_type": "stream",
     "text": [
      "['3: 1 2', '8: 2 4', '5: 10 20', '10: 1 2 3 4', '24: 1 2 3 4']\n",
      "3 [1, 2] True\n",
      "8 [2, 4] True\n",
      "5 [10, 20] False\n",
      "10 [1, 2, 3, 4] True\n",
      "24 [1, 2, 3, 4] True\n",
      "45\n"
     ]
    }
   ],
   "source": [
    "lines = advent_input.splitlines()\n",
    "print(lines)\n",
    "\n",
    "from typing import List, Dict\n",
    "\n",
    "def operator(testvalue: int, plus_or_times: str, sum_so_far: int, remaining_numbers: List[int]):\n",
    "  if (len(remaining_numbers) == 0):\n",
    "    return sum_so_far == testvalue\n",
    "  \n",
    "  if (plus_or_times == '+'):\n",
    "    sum = sum_so_far + remaining_numbers[0]\n",
    "  elif(plus_or_times == '*'):\n",
    "    sum = sum_so_far * remaining_numbers[0]\n",
    "  else:\n",
    "    sum = int(str(sum_so_far) + str(remaining_numbers[0]))\n",
    "\n",
    "  remaining_sliced = remaining_numbers[1:]\n",
    "\n",
    "  if (operator(testvalue, '+', sum, remaining_sliced)): return True\n",
    "  if (operator(testvalue, '*', sum, remaining_sliced)): return True\n",
    "  if (operator(testvalue, '|', sum, remaining_sliced)): return True\n",
    "  return False\n",
    "\n",
    "testvalue_sum = 0\n",
    "for line in lines:\n",
    "  testvalue_str, numbers_str = line.split(\": \")\n",
    "  testvalue = int(testvalue_str)\n",
    "  numbers = list(map(int, numbers_str.split(\" \")))\n",
    "  operator_result = operator(testvalue, '+', 0, numbers)\n",
    "  print(testvalue, numbers, operator_result)\n",
    "  if (operator_result): testvalue_sum += testvalue\n",
    "\n",
    "print(testvalue_sum)\n",
    "\n",
    "  \n",
    "\n"
   ]
  }
 ],
 "metadata": {
  "kernelspec": {
   "display_name": ".venv",
   "language": "python",
   "name": "python3"
  },
  "language_info": {
   "codemirror_mode": {
    "name": "ipython",
    "version": 3
   },
   "file_extension": ".py",
   "mimetype": "text/x-python",
   "name": "python",
   "nbconvert_exporter": "python",
   "pygments_lexer": "ipython3",
   "version": "3.13.0"
  }
 },
 "nbformat": 4,
 "nbformat_minor": 2
}

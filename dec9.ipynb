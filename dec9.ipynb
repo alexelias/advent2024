{
 "cells": [
  {
   "cell_type": "code",
   "execution_count": 38,
   "metadata": {},
   "outputs": [],
   "source": [
    "input = r\"\"\"2333133121414131402\"\"\""
   ]
  },
  {
   "cell_type": "code",
   "execution_count": 39,
   "metadata": {},
   "outputs": [
    {
     "name": "stdout",
     "output_type": "stream",
     "text": [
      "[0, 0, -1, -1, -1, 1, 1, 1, -1, -1, -1, 2, -1, -1, -1, 3, 3, 3, -1, 4, 4, -1, 5, 5, 5, 5, -1, 6, 6, 6, 6, -1, 7, 7, 7, -1, 8, 8, 8, 8, 9, 9]\n",
      "[0, 0, 9, 9, 8, 1, 1, 1, 8, 8, 8, 2, 7, 7, 7, 3, 3, 3, 6, 4, 4, 6, 5, 5, 5, 5, 6, 6, -1, -1, -1, -1, -1, -1, -1, -1, -1, -1, -1, -1, -1, -1]\n",
      "1928\n"
     ]
    }
   ],
   "source": [
    "# Part 1\n",
    "from typing import List, Dict\n",
    "\n",
    "blocks: List[int] = [] \n",
    "for index, char in enumerate(input):\n",
    "    if (index % 2 == 0):\n",
    "        fileId = index // 2\n",
    "    else:\n",
    "        fileId = -1\n",
    "\n",
    "    for length in range(int(char)):\n",
    "        blocks.append(fileId)\n",
    "\n",
    "print (blocks) # 00...111...2...333.44.5555.6666.777.888899\n",
    "\n",
    "try:\n",
    "    lastMoved = 0\n",
    "    for i in range(len(blocks) - 1, -1, -1):\n",
    "        toMove = blocks[i]\n",
    "        for j in range(lastMoved, len(blocks)):\n",
    "            if (j >= i):\n",
    "                raise StopIteration\n",
    "            if (blocks[j] == -1):\n",
    "                blocks[j] = toMove\n",
    "                lastMoved = j \n",
    "                break\n",
    "        blocks[i] = -1\n",
    "except StopIteration:\n",
    "    pass\n",
    "\n",
    "print (blocks) # 0099811188827773336446555566..............\n",
    "\n",
    "checksum = 0\n",
    "for index, fileId in enumerate(blocks):\n",
    "    if (fileId == -1): continue\n",
    "    checksum += index * fileId\n",
    "\n",
    "print(checksum) # 6211348208140\n"
   ]
  },
  {
   "cell_type": "code",
   "execution_count": 41,
   "metadata": {},
   "outputs": [
    {
     "name": "stdout",
     "output_type": "stream",
     "text": [
      "[0, 0, -1, -1, -1, 1, 1, 1, -1, -1, -1, 2, -1, -1, -1, 3, 3, 3, -1, 4, 4, -1, 5, 5, 5, 5, -1, 6, 6, 6, 6, -1, 7, 7, 7, -1, 8, 8, 8, 8, 9, 9]\n",
      "{0: FileEntry(position=0, size=2), 1: FileEntry(position=5, size=3), 2: FileEntry(position=11, size=1), 3: FileEntry(position=15, size=3), 4: FileEntry(position=19, size=2), 5: FileEntry(position=22, size=4), 6: FileEntry(position=27, size=4), 7: FileEntry(position=32, size=3), 8: FileEntry(position=36, size=4), 9: FileEntry(position=40, size=2)}\n",
      "9 FileEntry(position=40, size=2)\n",
      "8 FileEntry(position=36, size=4)\n",
      "7 FileEntry(position=32, size=3)\n",
      "6 FileEntry(position=27, size=4)\n",
      "5 FileEntry(position=22, size=4)\n",
      "4 FileEntry(position=19, size=2)\n",
      "3 FileEntry(position=15, size=3)\n",
      "2 FileEntry(position=11, size=1)\n",
      "1 FileEntry(position=5, size=3)\n",
      "0 FileEntry(position=0, size=2)\n",
      "[0, 0, 9, 9, 2, 1, 1, 1, 7, 7, 7, -1, 4, 4, -1, 3, 3, 3, -1, -1, -1, -1, 5, 5, 5, 5, -1, 6, 6, 6, 6, -1, -1, -1, -1, -1, 8, 8, 8, 8, -1, -1]\n",
      "2858\n"
     ]
    }
   ],
   "source": [
    "# Part 2\n",
    "from typing import List, Dict\n",
    "from collections import namedtuple\n",
    "\n",
    "FileEntry = namedtuple('FileEntry', ['position', 'size'])\n",
    "\n",
    "blocks: List[int] = [] \n",
    "fileTable: Dict[int, FileEntry] = {}\n",
    "for index, char in enumerate(input):\n",
    "    size = int(char)\n",
    "    if (index % 2 == 0):\n",
    "        fileId = index // 2\n",
    "        fileTable[fileId] = FileEntry(len(blocks), size)\n",
    "    else:\n",
    "        fileId = -1\n",
    "\n",
    "    for length in range(size):\n",
    "        blocks.append(fileId)\n",
    "\n",
    "print (blocks) # 00...111...2...333.44.5555.6666.777.888899\n",
    "print (fileTable)\n",
    "\n",
    "try:\n",
    "    for fileId in range(len(fileTable) - 1, -1, -1):\n",
    "        e = fileTable[fileId]\n",
    "        print (fileId, e)\n",
    "        for j in range(len(blocks)):\n",
    "            if (j >= e.position): break\n",
    "            if (blocks[j] != -1): continue\n",
    "            emptyLen = 0\n",
    "            while blocks[j + emptyLen] == -1:\n",
    "                emptyLen += 1\n",
    "            if (e.size <= emptyLen):\n",
    "                for i in range(e.size):\n",
    "                    blocks[e.position + i] = -1\n",
    "                    blocks[j + i] = fileId\n",
    "                break\n",
    "except StopIteration:\n",
    "    pass\n",
    "\n",
    "print (blocks)\n",
    "\n",
    "checksum = 0\n",
    "for index, fileId in enumerate(blocks):\n",
    "    if (fileId == -1): continue\n",
    "    checksum += index * fileId\n",
    "\n",
    "print(checksum)\n"
   ]
  }
 ],
 "metadata": {
  "kernelspec": {
   "display_name": ".venv",
   "language": "python",
   "name": "python3"
  },
  "language_info": {
   "codemirror_mode": {
    "name": "ipython",
    "version": 3
   },
   "file_extension": ".py",
   "mimetype": "text/x-python",
   "name": "python",
   "nbconvert_exporter": "python",
   "pygments_lexer": "ipython3",
   "version": "3.13.0"
  }
 },
 "nbformat": 4,
 "nbformat_minor": 2
}

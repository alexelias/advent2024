{
 "cells": [
  {
   "cell_type": "code",
   "execution_count": 15,
   "metadata": {},
   "outputs": [],
   "source": [
    "input = r\"\"\"MMMSXXMASM\n",
    "MSAMXMSMSA\n",
    "AMXSXMAAMM\n",
    "MSAMASMSMX\n",
    "XMASAMXAMM\n",
    "XXAMMXXAMA\n",
    "SMSMSASXSS\n",
    "SAXAMASAAA\n",
    "MAMMMXMMMM\n",
    "MXMXAXMASX\"\"\""
   ]
  },
  {
   "cell_type": "code",
   "execution_count": 16,
   "metadata": {},
   "outputs": [
    {
     "name": "stdout",
     "output_type": "stream",
     "text": [
      "9\n"
     ]
    }
   ],
   "source": [
    "from typing import List, Dict\n",
    "from collections import namedtuple\n",
    "\n",
    "Point = namedtuple('Point', ['x', 'y'])\n",
    "\n",
    "grid = input.splitlines()\n",
    "\n",
    "xs = []\n",
    "for y, row in enumerate(grid):\n",
    "    height = y + 1\n",
    "    for x, column in enumerate(row):\n",
    "        width = x + 1\n",
    "        if (column == \"A\"):\n",
    "           xs.append(Point(x, y))\n",
    "\n",
    "#print(width, height, xs)\n",
    "\n",
    "#def oob(pt: Point):\n",
    "#    return (pt.x < 0 or pt.y < 0 or pt.x >= width or pt.y >= height)\n",
    "\n",
    "count = 0\n",
    "for pt in xs:\n",
    "    if (pt.x == 0 or pt.y == 0 or pt.x == width - 1 or pt.y == height - 1): continue\n",
    "    topleft = Point(pt.x - 1, pt.y - 1)\n",
    "    topright = Point(pt.x + 1, pt.y - 1)\n",
    "    botleft = Point(pt.x - 1, pt.y + 1)\n",
    "    botright = Point(pt.x + 1, pt.y + 1)\n",
    "\n",
    "    tl_char = grid[topleft.y][topleft.x]\n",
    "    tr_char = grid[topright.y][topright.x]\n",
    "    bl_char = grid[botleft.y][botleft.x]\n",
    "    br_char = grid[botright.y][botright.x]\n",
    "\n",
    "    if (tl_char != \"M\" and tl_char != \"S\"): continue\n",
    "    if (tr_char != \"M\" and tr_char != \"S\"): continue\n",
    "    if (bl_char != \"M\" and bl_char != \"S\"): continue\n",
    "    if (br_char != \"M\" and br_char != \"S\"): continue\n",
    "    if (tl_char == br_char): continue\n",
    "    if (tr_char == bl_char): continue\n",
    "\n",
    "    count += 1\n",
    "\n",
    "print(count)\n"
   ]
  }
 ],
 "metadata": {
  "kernelspec": {
   "display_name": ".venv",
   "language": "python",
   "name": "python3"
  },
  "language_info": {
   "codemirror_mode": {
    "name": "ipython",
    "version": 3
   },
   "file_extension": ".py",
   "mimetype": "text/x-python",
   "name": "python",
   "nbconvert_exporter": "python",
   "pygments_lexer": "ipython3",
   "version": "3.13.0"
  }
 },
 "nbformat": 4,
 "nbformat_minor": 2
}

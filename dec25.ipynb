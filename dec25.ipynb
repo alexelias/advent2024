{
 "cells": [
  {
   "cell_type": "code",
   "execution_count": 8,
   "metadata": {},
   "outputs": [],
   "source": [
    "input = r\"\"\"#####\n",
    ".####\n",
    ".####\n",
    ".####\n",
    ".#.#.\n",
    ".#...\n",
    ".....\n",
    "\n",
    "#####\n",
    "##.##\n",
    ".#.##\n",
    "...##\n",
    "...#.\n",
    "...#.\n",
    ".....\n",
    "\n",
    ".....\n",
    "#....\n",
    "#....\n",
    "#...#\n",
    "#.#.#\n",
    "#.###\n",
    "#####\n",
    "\n",
    ".....\n",
    ".....\n",
    "#.#..\n",
    "###..\n",
    "###.#\n",
    "###.#\n",
    "#####\n",
    "\n",
    ".....\n",
    ".....\n",
    ".....\n",
    "#....\n",
    "#.#..\n",
    "#.#.#\n",
    "#####\n",
    "\"\"\""
   ]
  },
  {
   "cell_type": "code",
   "execution_count": 9,
   "metadata": {},
   "outputs": [
    {
     "name": "stdout",
     "output_type": "stream",
     "text": [
      "3\n"
     ]
    }
   ],
   "source": [
    "# part 1\n",
    "\n",
    "locks = []\n",
    "keys = []\n",
    "\n",
    "isLock = False\n",
    "row = 0\n",
    "currentSchema = [0, 0, 0, 0, 0]\n",
    "for line in input.splitlines():\n",
    "    if (line == \"\"): continue\n",
    "    if (row == 0 and line == \".....\"): isLock = False\n",
    "    elif (row == 0 and line == \"#####\"): isLock = True\n",
    "    elif (row == 6):\n",
    "        if (isLock):\n",
    "            locks.append(tuple(currentSchema))\n",
    "        else:\n",
    "            keys.append(tuple(currentSchema))\n",
    "        currentSchema = [0, 0, 0, 0, 0]\n",
    "        row = -1\n",
    "    else:\n",
    "        for index, char in enumerate(line):\n",
    "            if (char == '#'): currentSchema[index] += 1\n",
    "    row += 1\n",
    "\n",
    "#print (locks)\n",
    "#print (keys)\n",
    "\n",
    "numFits = 0\n",
    "for lock in locks:\n",
    "    for key in keys:\n",
    "        fit = True\n",
    "        for index, lockHeight in enumerate(lock):\n",
    "            if (lockHeight + key[index] > 5): fit = False\n",
    "        if (fit): numFits += 1\n",
    "\n",
    "print (numFits)\n"
   ]
  }
 ],
 "metadata": {
  "kernelspec": {
   "display_name": ".venv",
   "language": "python",
   "name": "python3"
  },
  "language_info": {
   "codemirror_mode": {
    "name": "ipython",
    "version": 3
   },
   "file_extension": ".py",
   "mimetype": "text/x-python",
   "name": "python",
   "nbconvert_exporter": "python",
   "pygments_lexer": "ipython3",
   "version": "3.13.0"
  }
 },
 "nbformat": 4,
 "nbformat_minor": 2
}

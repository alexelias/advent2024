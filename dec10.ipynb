{
 "cells": [
  {
   "cell_type": "code",
   "execution_count": 17,
   "metadata": {},
   "outputs": [],
   "source": [
    "input = r\"\"\"89010123\n",
    "78121874\n",
    "87430965\n",
    "96549874\n",
    "45678903\n",
    "32019012\n",
    "01329801\n",
    "10456732\"\"\""
   ]
  },
  {
   "cell_type": "code",
   "execution_count": 18,
   "metadata": {},
   "outputs": [
    {
     "name": "stdout",
     "output_type": "stream",
     "text": [
      "{Point(x=4, y=3), Point(x=5, y=4), Point(x=0, y=3), Point(x=4, y=5), Point(x=1, y=0)}\n",
      "{Point(x=4, y=3), Point(x=5, y=4), Point(x=0, y=3), Point(x=4, y=5), Point(x=1, y=0), Point(x=5, y=2)}\n",
      "{Point(x=4, y=5), Point(x=4, y=3), Point(x=1, y=0), Point(x=5, y=4), Point(x=0, y=3)}\n",
      "{Point(x=4, y=3), Point(x=5, y=4), Point(x=5, y=2)}\n",
      "{Point(x=4, y=6)}\n",
      "{Point(x=4, y=3), Point(x=5, y=4), Point(x=5, y=2)}\n",
      "{Point(x=4, y=5), Point(x=4, y=3), Point(x=1, y=0), Point(x=5, y=4), Point(x=0, y=3)}\n",
      "{Point(x=4, y=3), Point(x=5, y=4), Point(x=5, y=2)}\n",
      "{Point(x=4, y=5), Point(x=4, y=3), Point(x=1, y=0), Point(x=5, y=4), Point(x=0, y=3)}\n",
      "36\n"
     ]
    }
   ],
   "source": [
    "# part 1\n",
    "\n",
    "from typing import List, Dict\n",
    "from collections import namedtuple\n",
    "\n",
    "Point = namedtuple('Point', ['x', 'y'])\n",
    "\n",
    "grid = input.splitlines()\n",
    "\n",
    "trailheads = []\n",
    "for y, row in enumerate(grid):\n",
    "    height = y + 1\n",
    "    for x, column in enumerate(row):\n",
    "        width = x + 1\n",
    "        if (column == \"0\"):\n",
    "           trailheads.append(Point(x, y))\n",
    "\n",
    "def oob(pt: Point):\n",
    "    return (pt.x < 0 or pt.y < 0 or pt.x >= width or pt.y >= height)\n",
    "\n",
    "def getHeight(pt: Point):\n",
    "    if (oob(pt)): return -1\n",
    "    return int(grid[pt.y][pt.x])\n",
    "\n",
    "up = Point(0, -1)\n",
    "right = Point(1, 0)\n",
    "down = Point(0, 1)\n",
    "left = Point(-1, 0)\n",
    "directions = [up, right, down, left]\n",
    "\n",
    "def checkTrail(pt: Point):\n",
    "    curHeight = getHeight(pt)\n",
    "    if (curHeight == 9): return set([pt])\n",
    "    \n",
    "    reachableSummits = set()\n",
    "    for dir in directions:\n",
    "        nextPt = Point(pt.x + dir.x, pt.y + dir.y)\n",
    "        if (getHeight(nextPt) == curHeight + 1):\n",
    "            reachableSummits.update(checkTrail(nextPt))\n",
    "    \n",
    "    return reachableSummits\n",
    "\n",
    "score = 0\n",
    "for trailhead in trailheads:\n",
    "    summits = checkTrail(trailhead)\n",
    "    print (summits)\n",
    "    score += len(summits)\n",
    "          \n",
    "print (score)"
   ]
  },
  {
   "cell_type": "code",
   "execution_count": 19,
   "metadata": {},
   "outputs": [
    {
     "name": "stdout",
     "output_type": "stream",
     "text": [
      "20\n",
      "24\n",
      "10\n",
      "4\n",
      "1\n",
      "4\n",
      "5\n",
      "8\n",
      "5\n",
      "81\n"
     ]
    }
   ],
   "source": [
    "# part 2\n",
    "\n",
    "from typing import List, Dict\n",
    "from collections import namedtuple\n",
    "\n",
    "Point = namedtuple('Point', ['x', 'y'])\n",
    "\n",
    "grid = input.splitlines()\n",
    "\n",
    "trailheads = []\n",
    "for y, row in enumerate(grid):\n",
    "    height = y + 1\n",
    "    for x, column in enumerate(row):\n",
    "        width = x + 1\n",
    "        if (column == \"0\"):\n",
    "           trailheads.append(Point(x, y))\n",
    "\n",
    "def oob(pt: Point):\n",
    "    return (pt.x < 0 or pt.y < 0 or pt.x >= width or pt.y >= height)\n",
    "\n",
    "def getHeight(pt: Point):\n",
    "    if (oob(pt)): return -1\n",
    "    return int(grid[pt.y][pt.x])\n",
    "\n",
    "up = Point(0, -1)\n",
    "right = Point(1, 0)\n",
    "down = Point(0, 1)\n",
    "left = Point(-1, 0)\n",
    "directions = [up, right, down, left]\n",
    "\n",
    "def checkTrail(pt: Point):\n",
    "    curHeight = getHeight(pt)\n",
    "    if (curHeight == 9): return 1\n",
    "    \n",
    "    count = 0\n",
    "    for dir in directions:\n",
    "        nextPt = Point(pt.x + dir.x, pt.y + dir.y)\n",
    "        if (getHeight(nextPt) == curHeight + 1):\n",
    "            count += checkTrail(nextPt)\n",
    "    \n",
    "    return count\n",
    "\n",
    "rating = 0\n",
    "for trailhead in trailheads:\n",
    "    count = checkTrail(trailhead)\n",
    "    print (count)\n",
    "    rating += count\n",
    "          \n",
    "print (rating)"
   ]
  }
 ],
 "metadata": {
  "kernelspec": {
   "display_name": ".venv",
   "language": "python",
   "name": "python3"
  },
  "language_info": {
   "codemirror_mode": {
    "name": "ipython",
    "version": 3
   },
   "file_extension": ".py",
   "mimetype": "text/x-python",
   "name": "python",
   "nbconvert_exporter": "python",
   "pygments_lexer": "ipython3",
   "version": "3.13.0"
  }
 },
 "nbformat": 4,
 "nbformat_minor": 2
}

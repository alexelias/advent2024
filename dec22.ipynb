{
 "cells": [
  {
   "cell_type": "code",
   "execution_count": 16,
   "metadata": {},
   "outputs": [],
   "source": [
    "input = r\"\"\"1\n",
    "10\n",
    "100\n",
    "2024\"\"\""
   ]
  },
  {
   "cell_type": "code",
   "execution_count": 18,
   "metadata": {},
   "outputs": [],
   "source": [
    "input = r\"\"\"1\n",
    "2\n",
    "3\n",
    "2024\"\"\""
   ]
  },
  {
   "cell_type": "code",
   "execution_count": 17,
   "metadata": {},
   "outputs": [
    {
     "name": "stdout",
     "output_type": "stream",
     "text": [
      "1: 8685429\n",
      "10: 4700978\n",
      "100: 15273692\n",
      "2024: 8667524\n",
      "numLines: 4, numsum: 37327623\n"
     ]
    }
   ],
   "source": [
    "# part 1\n",
    "\n",
    "def nextSecret(secret: int) -> int:\n",
    "    secret = (secret ^ (secret << 6)) & 0xffffff\n",
    "    secret = (secret ^ (secret >> 5)) & 0xffffff\n",
    "    secret = (secret ^ (secret << 11)) & 0xffffff\n",
    "    return secret\n",
    "\n",
    "#secret = 123\n",
    "#print(secret)\n",
    "#for i in range(10):\n",
    "#    secret = nextSecret(secret)\n",
    "#    print(secret)\n",
    "\n",
    "numToGenerate = 2000\n",
    "sum = 0\n",
    "numLines = 0\n",
    "for secretNumberStr in input.splitlines():\n",
    "    secret = int(secretNumberStr)\n",
    "    for i in range(numToGenerate):\n",
    "        secret = nextSecret(secret)\n",
    "     \n",
    "    print (f\"{secretNumberStr}: {secret}\")\n",
    "     \n",
    "    sum += secret\n",
    "    numLines += 1\n",
    "\n",
    "print (f\"numLines: {numLines}, numsum: {sum}\")\n",
    "    \n",
    "\n"
   ]
  },
  {
   "cell_type": "code",
   "execution_count": 19,
   "metadata": {},
   "outputs": [
    {
     "name": "stdout",
     "output_type": "stream",
     "text": [
      "bestSum: 23, bestTuple: -2,1,-1,3\n"
     ]
    }
   ],
   "source": [
    "# part 2\n",
    "\n",
    "def nextSecret(secret: int) -> int:\n",
    "    secret = (secret ^ (secret << 6)) & 0xffffff\n",
    "    secret = (secret ^ (secret >> 5)) & 0xffffff\n",
    "    secret = (secret ^ (secret << 11)) & 0xffffff\n",
    "    return secret\n",
    "\n",
    "from typing import NamedTuple\n",
    "SequenceValue = NamedTuple('SequenceValue', [('priceSum', int), ('lastBuyer', int)])\n",
    "\n",
    "sequenceDict = {}\n",
    "numToGenerate = 2000\n",
    "for buyerNum, secretNumberStr in enumerate(input.splitlines()):\n",
    "    secret = int(secretNumberStr)\n",
    "    lastPriceTuple = (-1, -1, -1, -1, secret % 10)\n",
    "    for i in range(numToGenerate):\n",
    "        secret = nextSecret(secret)\n",
    "        price = secret % 10\n",
    "        lastPriceTuple = (lastPriceTuple[1], lastPriceTuple[2], lastPriceTuple[3], lastPriceTuple[4], price)\n",
    "        if (lastPriceTuple[0] == -1): continue\n",
    "        diffTuple = (lastPriceTuple[1] - lastPriceTuple[0], lastPriceTuple[2] - lastPriceTuple[1], lastPriceTuple[3] - lastPriceTuple[2], lastPriceTuple[4] - lastPriceTuple[3],)\n",
    "        currentValue = sequenceDict.get(diffTuple)\n",
    "        if (currentValue == None): currentValue = SequenceValue(priceSum = 0, lastBuyer = -1)\n",
    "        if (currentValue.lastBuyer != buyerNum):\n",
    "            sequenceDict[diffTuple] = SequenceValue(currentValue.priceSum + price, buyerNum)\n",
    "\n",
    "highestSeenPriceSum = 0\n",
    "bestDiffTuple = (-1, -1, -1, -1)\n",
    "for diffTuple, value in sequenceDict.items():\n",
    "    if (value.priceSum > highestSeenPriceSum):\n",
    "        highestSeenPriceSum = value.priceSum\n",
    "        bestDiffTuple = diffTuple\n",
    "\n",
    "print (f\"bestSum: {highestSeenPriceSum}, bestTuple: {bestDiffTuple[0]},{bestDiffTuple[1]},{bestDiffTuple[2]},{bestDiffTuple[3]}\")\n",
    "\n",
    "    \n",
    "\n"
   ]
  }
 ],
 "metadata": {
  "kernelspec": {
   "display_name": ".venv",
   "language": "python",
   "name": "python3"
  },
  "language_info": {
   "codemirror_mode": {
    "name": "ipython",
    "version": 3
   },
   "file_extension": ".py",
   "mimetype": "text/x-python",
   "name": "python",
   "nbconvert_exporter": "python",
   "pygments_lexer": "ipython3",
   "version": "3.13.0"
  }
 },
 "nbformat": 4,
 "nbformat_minor": 2
}

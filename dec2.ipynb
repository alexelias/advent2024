{
 "cells": [
  {
   "cell_type": "code",
   "execution_count": 26,
   "metadata": {},
   "outputs": [],
   "source": [
    "input = r\"\"\"7 6 4 2 1\n",
    "1 2 7 8 9\n",
    "9 7 6 2 1\n",
    "1 3 2 4 5\n",
    "8 6 4 4 1\n",
    "1 3 6 7 9\"\"\""
   ]
  },
  {
   "cell_type": "code",
   "execution_count": 27,
   "metadata": {},
   "outputs": [
    {
     "name": "stdout",
     "output_type": "stream",
     "text": [
      "[7, 6, 4, 2, 1]\n",
      "[1, 2, 7, 8, 9]\n",
      "[9, 7, 6, 2, 1]\n",
      "[1, 3, 2, 4, 5]\n",
      "[8, 6, 4, 4, 1]\n",
      "[1, 3, 6, 7, 9]\n",
      "4\n"
     ]
    }
   ],
   "source": [
    "from typing import List, Dict\n",
    "\n",
    "def check(comparison: str, levels: List[int]):\n",
    "  if(len(levels) == 1): return True\n",
    "\n",
    "  if (comparison == \"<\"):\n",
    "    if (not (levels[0] < levels[1])): return False\n",
    "  elif (comparison == \">\"):\n",
    "    if (not (levels[0] > levels[1])): return False\n",
    "  else:\n",
    "    absdiff = abs(levels[0] - levels[1])\n",
    "    if (absdiff < 1 or absdiff > 3): return False\n",
    "\n",
    "  return check(comparison, levels[1:])\n",
    "\n",
    "total_safe = 0\n",
    "for line in input.splitlines():\n",
    "  report = list(map(int, line.split()))\n",
    "  print(report)\n",
    "\n",
    "  report_variants = [report]\n",
    "  for i in range(0, len(report)):\n",
    "    variant = report[0:i] + report[i+1:len(report)]\n",
    "#    print(variant)\n",
    "    report_variants.append(variant)\n",
    "\n",
    "  any_safe = False\n",
    "  for variant in report_variants:\n",
    "    safe = True\n",
    "    if (variant[0] < variant[1]):\n",
    "      if (not check(\"<\", variant)): safe = False\n",
    "    if (variant[0] > variant[1]):\n",
    "      if (not check(\">\", variant)): safe = False\n",
    "    if (not check(\"-\", variant)): safe = False\n",
    "    if (safe): any_safe = True\n",
    "\n",
    "  if (any_safe): total_safe += 1\n",
    "\n",
    "print(total_safe)"
   ]
  }
 ],
 "metadata": {
  "kernelspec": {
   "display_name": ".venv",
   "language": "python",
   "name": "python3"
  },
  "language_info": {
   "codemirror_mode": {
    "name": "ipython",
    "version": 3
   },
   "file_extension": ".py",
   "mimetype": "text/x-python",
   "name": "python",
   "nbconvert_exporter": "python",
   "pygments_lexer": "ipython3",
   "version": "3.13.0"
  }
 },
 "nbformat": 4,
 "nbformat_minor": 2
}

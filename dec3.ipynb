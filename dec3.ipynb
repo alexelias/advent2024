{
 "cells": [
  {
   "cell_type": "code",
   "execution_count": 16,
   "metadata": {},
   "outputs": [],
   "source": [
    "input = r\"\"\"xmul(2,4)&mul[3,7]!^don't()_mul(5,5)+mul(32,64](mul(11,8)undo()?mul(8,5))\"\"\""
   ]
  },
  {
   "cell_type": "code",
   "execution_count": 17,
   "metadata": {},
   "outputs": [
    {
     "name": "stdout",
     "output_type": "stream",
     "text": [
      "9\n",
      "27\n",
      "36\n",
      "57\n",
      "63\n",
      "72\n",
      "['mul(2,4)', \"don't()\", 'mul(5,5)', 'mul(11,8)', 'do()', 'mul(8,5)']\n",
      "48\n"
     ]
    }
   ],
   "source": [
    "import re\n",
    "\n",
    "regex = r\"(don't\\(\\)|do\\(\\)|mul\\(\\d+,\\d+\\))\"\n",
    "\n",
    "mulstrs = []\n",
    "start = 0\n",
    "while True:\n",
    "  result = re.search(regex, input[start:])\n",
    "  if (result == None): break\n",
    "  mulstrs.append(result.group())\n",
    "  start += result.span()[1]\n",
    "  if (start >= len(input)): break\n",
    "  print(start)\n",
    "\n",
    "print(mulstrs)\n",
    "enabled = True\n",
    "finalsum = 0\n",
    "for mul in mulstrs:\n",
    "  if (mul == \"don't()\"):\n",
    "    enabled = False\n",
    "    continue\n",
    "  if (mul == \"do()\"):\n",
    "    enabled = True\n",
    "    continue\n",
    "  if (enabled == False):\n",
    "    continue\n",
    "  numstrs = mul[4:].split(\",\")\n",
    "  a = int(numstrs[0])\n",
    "  b = int(numstrs[1][:-1])\n",
    "  #print (a, b)\n",
    "  finalsum += a * b\n",
    "\n",
    "print(finalsum)"
   ]
  }
 ],
 "metadata": {
  "kernelspec": {
   "display_name": ".venv",
   "language": "python",
   "name": "python3"
  },
  "language_info": {
   "codemirror_mode": {
    "name": "ipython",
    "version": 3
   },
   "file_extension": ".py",
   "mimetype": "text/x-python",
   "name": "python",
   "nbconvert_exporter": "python",
   "pygments_lexer": "ipython3",
   "version": "3.13.0"
  }
 },
 "nbformat": 4,
 "nbformat_minor": 2
}

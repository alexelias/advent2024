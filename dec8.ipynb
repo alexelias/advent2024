{
 "cells": [
  {
   "cell_type": "code",
   "execution_count": 21,
   "metadata": {},
   "outputs": [],
   "source": [
    "input = r\"\"\"............\n",
    "........0...\n",
    ".....0......\n",
    ".......0....\n",
    "....0.......\n",
    "......A.....\n",
    "............\n",
    "............\n",
    "........A...\n",
    ".........A..\n",
    "............\n",
    "............\"\"\""
   ]
  },
  {
   "cell_type": "code",
   "execution_count": 23,
   "metadata": {},
   "outputs": [],
   "source": [
    "input = r\"\"\"...........6.b....................................\n",
    "........6................8........................\n",
    "..Y.......................................o.......\n",
    "....V...j............B.............c..............\n",
    "............8.........X.......L...................\n",
    ".....j..v6.......3.L..................c...........\n",
    "..Mj.....p3.......b........Z....................J.\n",
    "..........M...X...................................\n",
    "V..............v......p.........Z.........c.......\n",
    "..............3...................................\n",
    ".......V......U3.............c....................\n",
    "..........b..v.M.U8...............................\n",
    "..........j........8.....................J........\n",
    "..........Y......q........LH..Z...D...........y...\n",
    "..2Y........PX......6..................BQ.........\n",
    "...0.Y...............XP...........w...............\n",
    ".........U.......2...............oH.y.............\n",
    "0..............9........U.........................\n",
    "...........P..............W.......z...Oy..........\n",
    "...................t...p.W..o.............Q.......\n",
    ".....S.................t.....Q....B...............\n",
    "S.k..................V..W...p.......H...O......m..\n",
    "....S.h................W.......................O..\n",
    "..h..P.2.............Z.............J..............\n",
    ".........k.......5v.......q...t.s.................\n",
    ".....Q.....h..........................J...B.......\n",
    "........0.........l...............................\n",
    ".S................................................\n",
    ".............................M....................\n",
    "2..................e.....o.....y..................\n",
    "................k.................................\n",
    "......4......k....t...s.q.........................\n",
    ".4.......................q........................\n",
    ".......................z....E.....................\n",
    ".............0.....d..............................\n",
    "7..........D........z.............................\n",
    ".......D..5......7..9.............................\n",
    "......5..................E........................\n",
    "D..............K......d..9E..........w.....1..C...\n",
    ".......K..x.........d....s...........l............\n",
    "........7......................u...C..............\n",
    "..K........x..............9..C...u................\n",
    "4..............s.........................l...T..w.\n",
    ".......5.....7..................m......T......1...\n",
    "...........................E...z.m................\n",
    "......................................u...C.......\n",
    ".............................em...................\n",
    "..............................................T...\n",
    "....................x.......................e.....\n",
    ".............................1e....w....l.........\"\"\""
   ]
  },
  {
   "cell_type": "code",
   "execution_count": 24,
   "metadata": {},
   "outputs": [
    {
     "name": "stdout",
     "output_type": "stream",
     "text": [
      "50 50 {'6': [Point(x=0, y=11), Point(x=1, y=8), Point(x=5, y=9), Point(x=14, y=20)], 'b': [Point(x=0, y=13), Point(x=6, y=18), Point(x=11, y=10)], '8': [Point(x=1, y=25), Point(x=4, y=12), Point(x=11, y=18), Point(x=12, y=19)], 'Y': [Point(x=2, y=2), Point(x=13, y=10), Point(x=14, y=3), Point(x=15, y=5)], 'o': [Point(x=2, y=42), Point(x=16, y=33), Point(x=19, y=28), Point(x=29, y=25)], 'V': [Point(x=3, y=4), Point(x=8, y=0), Point(x=10, y=7), Point(x=21, y=21)], 'j': [Point(x=3, y=8), Point(x=5, y=5), Point(x=6, y=3), Point(x=12, y=10)], 'B': [Point(x=3, y=21), Point(x=14, y=39), Point(x=20, y=34), Point(x=25, y=42)], 'c': [Point(x=3, y=35), Point(x=5, y=38), Point(x=8, y=42), Point(x=10, y=29)], 'X': [Point(x=4, y=22), Point(x=7, y=14), Point(x=14, y=13), Point(x=15, y=21)], 'L': [Point(x=4, y=30), Point(x=5, y=19), Point(x=13, y=26)], 'v': [Point(x=5, y=8), Point(x=8, y=15), Point(x=11, y=13), Point(x=24, y=18)], '3': [Point(x=5, y=17), Point(x=6, y=10), Point(x=9, y=14), Point(x=10, y=15)], 'M': [Point(x=6, y=2), Point(x=7, y=10), Point(x=11, y=15), Point(x=28, y=29)], 'p': [Point(x=6, y=9), Point(x=8, y=22), Point(x=19, y=23), Point(x=21, y=28)], 'Z': [Point(x=6, y=27), Point(x=8, y=32), Point(x=13, y=30), Point(x=23, y=21)], 'J': [Point(x=6, y=48), Point(x=12, y=41), Point(x=23, y=35), Point(x=25, y=38)], 'U': [Point(x=10, y=14), Point(x=11, y=17), Point(x=16, y=9), Point(x=17, y=24)], 'q': [Point(x=13, y=17), Point(x=24, y=26), Point(x=31, y=24), Point(x=32, y=25)], 'H': [Point(x=13, y=27), Point(x=16, y=34), Point(x=21, y=36)], 'D': [Point(x=13, y=34), Point(x=35, y=11), Point(x=36, y=7), Point(x=38, y=0)], 'y': [Point(x=13, y=46), Point(x=16, y=36), Point(x=18, y=39), Point(x=29, y=31)], '2': [Point(x=14, y=2), Point(x=16, y=17), Point(x=23, y=7), Point(x=29, y=0)], 'P': [Point(x=14, y=12), Point(x=15, y=22), Point(x=18, y=11), Point(x=23, y=5)], 'Q': [Point(x=14, y=40), Point(x=19, y=42), Point(x=20, y=29), Point(x=25, y=5)], '0': [Point(x=15, y=3), Point(x=17, y=0), Point(x=26, y=8), Point(x=34, y=13)], 'w': [Point(x=15, y=34), Point(x=38, y=37), Point(x=42, y=48), Point(x=49, y=35)], '9': [Point(x=17, y=15), Point(x=36, y=20), Point(x=38, y=25), Point(x=41, y=26)], 'W': [Point(x=18, y=26), Point(x=19, y=25), Point(x=21, y=24), Point(x=22, y=23)], 'z': [Point(x=18, y=34), Point(x=33, y=23), Point(x=35, y=20), Point(x=44, y=31)], 'O': [Point(x=18, y=38), Point(x=21, y=40), Point(x=22, y=47)], 't': [Point(x=19, y=19), Point(x=20, y=23), Point(x=24, y=30), Point(x=31, y=18)], 'S': [Point(x=20, y=5), Point(x=21, y=0), Point(x=22, y=4), Point(x=27, y=1)], 'k': [Point(x=21, y=2), Point(x=24, y=9), Point(x=30, y=16), Point(x=31, y=13)], 'm': [Point(x=21, y=47), Point(x=43, y=32), Point(x=44, y=33), Point(x=46, y=30)], 'h': [Point(x=22, y=6), Point(x=23, y=2), Point(x=25, y=11)], '5': [Point(x=24, y=17), Point(x=36, y=10), Point(x=37, y=6), Point(x=43, y=7)], 's': [Point(x=24, y=32), Point(x=31, y=22), Point(x=39, y=25), Point(x=42, y=15)], 'l': [Point(x=26, y=18), Point(x=39, y=37), Point(x=42, y=41), Point(x=49, y=40)], 'e': [Point(x=29, y=19), Point(x=46, y=29), Point(x=48, y=44), Point(x=49, y=30)], '4': [Point(x=31, y=6), Point(x=32, y=1), Point(x=42, y=0)], 'E': [Point(x=33, y=28), Point(x=37, y=25), Point(x=38, y=26), Point(x=44, y=27)], 'd': [Point(x=34, y=19), Point(x=38, y=22), Point(x=39, y=20)], '7': [Point(x=35, y=0), Point(x=36, y=17), Point(x=40, y=8), Point(x=43, y=13)], 'K': [Point(x=38, y=15), Point(x=39, y=7), Point(x=41, y=2)], '1': [Point(x=38, y=43), Point(x=43, y=46), Point(x=49, y=29)], 'C': [Point(x=38, y=46), Point(x=40, y=35), Point(x=41, y=29), Point(x=45, y=42)], 'x': [Point(x=39, y=10), Point(x=41, y=11), Point(x=48, y=20)], 'u': [Point(x=40, y=31), Point(x=41, y=33), Point(x=45, y=38)], 'T': [Point(x=42, y=45), Point(x=43, y=39), Point(x=47, y=46)]}\n",
      "1150\n"
     ]
    }
   ],
   "source": [
    "from typing import List, Dict\n",
    "from collections import namedtuple\n",
    "\n",
    "Point = namedtuple('Point', ['x', 'y'])\n",
    "\n",
    "dict: dict = {}\n",
    "for row, line in enumerate(input.splitlines()):\n",
    "   height = row + 1\n",
    "#   print(row, line)\n",
    "   for column, char in enumerate(line):\n",
    "#     print(column, char)\n",
    "      width = column + 1\n",
    "      if (char != \".\"):\n",
    "        dict.setdefault(char, []).append(Point(row, column))\n",
    "\n",
    "print (width, height, dict)\n",
    "\n",
    "antinodes: set[Point] = set()\n",
    "for type, pts in dict.items():\n",
    "   for pt1 in dict[type]:\n",
    "     for pt2 in dict[type]:\n",
    "       if pt2 == pt1: continue\n",
    "       #print (type, pt1, pt2)\n",
    "       for m in range(width):\n",
    "         antinode = Point((pt2.x - pt1.x) * m + pt1.x, (pt2.y - pt1.y) * m + pt1.y)\n",
    "         if (antinode.x >= width or antinode.y >= height or antinode.x < 0 or antinode.y < 0): continue\n",
    "         antinodes.add(antinode)\n",
    "       #print (type, antinode)\n",
    "\n",
    "print(len(antinodes))"
   ]
  }
 ],
 "metadata": {
  "kernelspec": {
   "display_name": ".venv",
   "language": "python",
   "name": "python3"
  },
  "language_info": {
   "codemirror_mode": {
    "name": "ipython",
    "version": 3
   },
   "file_extension": ".py",
   "mimetype": "text/x-python",
   "name": "python",
   "nbconvert_exporter": "python",
   "pygments_lexer": "ipython3",
   "version": "3.13.0"
  }
 },
 "nbformat": 4,
 "nbformat_minor": 2
}

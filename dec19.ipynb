{
 "cells": [
  {
   "cell_type": "code",
   "execution_count": 1,
   "metadata": {},
   "outputs": [],
   "source": [
    "input = r\"\"\"r, wr, b, g, bwu, rb, gb, br\n",
    "\n",
    "brwrr\n",
    "bggr\n",
    "gbbr\n",
    "rrbgbr\n",
    "ubwu\n",
    "bwurrg\n",
    "brgr\n",
    "bbrgwb\n",
    "\"\"\""
   ]
  },
  {
   "cell_type": "code",
   "execution_count": 2,
   "metadata": {},
   "outputs": [
    {
     "name": "stdout",
     "output_type": "stream",
     "text": [
      "['bwu', 'wr', 'rb', 'gb', 'br', 'r', 'b', 'g']\n",
      "['brwrr', 'bggr', 'gbbr', 'rrbgbr', 'ubwu', 'bwurrg', 'brgr', 'bbrgwb']\n",
      "[['br', 'wr', 'r'], ['b', 'g', 'g', 'r'], ['gb', 'br'], ['r', 'rb', 'gb', 'r'], ['bwu', 'r', 'r', 'g'], ['br', 'g', 'r']]\n",
      "6\n"
     ]
    }
   ],
   "source": [
    "# part 1\n",
    "\n",
    "towels = []\n",
    "patterns = []\n",
    "mode = False\n",
    "for line in input.splitlines():\n",
    "    if (line == \"\"): mode = True; continue\n",
    "    if (not mode):\n",
    "        for towel in line.split(\", \"):\n",
    "            towels.append(towel) \n",
    "    else:\n",
    "        patterns.append(line)\n",
    "\n",
    "towels.sort(key = lambda t: -len(t))\n",
    "\n",
    "print (towels)\n",
    "print (patterns)\n",
    "\n",
    "def addToPattern(remainingPattern):\n",
    "    if (remainingPattern == \"\"): return []\n",
    "    for t in towels:\n",
    "        if (t == remainingPattern[:len(t)]):\n",
    "            ret = addToPattern(remainingPattern[len(t):])\n",
    "            if (ret != None):\n",
    "                ret.insert(0, t)\n",
    "                return ret\n",
    "    return None\n",
    "\n",
    "validpatterns = []\n",
    "for p in patterns:\n",
    "    ret = addToPattern(p)\n",
    "    if (ret != None): validpatterns.append(ret)\n",
    "\n",
    "print (validpatterns)\n",
    "print (len(validpatterns))"
   ]
  },
  {
   "cell_type": "code",
   "execution_count": 3,
   "metadata": {},
   "outputs": [
    {
     "name": "stdout",
     "output_type": "stream",
     "text": [
      "['bwu', 'wr', 'rb', 'gb', 'br', 'r', 'b', 'g']\n",
      "['brwrr', 'bggr', 'gbbr', 'rrbgbr', 'ubwu', 'bwurrg', 'brgr', 'bbrgwb']\n",
      "Computing pattern brwrr...\n",
      "Computing pattern bggr...\n",
      "Computing pattern gbbr...\n",
      "Computing pattern rrbgbr...\n",
      "Computing pattern ubwu...\n",
      "Computing pattern bwurrg...\n",
      "Computing pattern brgr...\n",
      "Computing pattern bbrgwb...\n",
      "16\n"
     ]
    }
   ],
   "source": [
    "# part 2\n",
    "\n",
    "towels = []\n",
    "patterns = []\n",
    "mode = False\n",
    "for line in input.splitlines():\n",
    "    if (line == \"\"): mode = True; continue\n",
    "    if (not mode):\n",
    "        for towel in line.split(\", \"):\n",
    "            towels.append(towel) \n",
    "    else:\n",
    "        patterns.append(line)\n",
    "\n",
    "towels.sort(key = lambda t: -len(t))\n",
    "\n",
    "print (towels)\n",
    "print (patterns)\n",
    "\n",
    "\n",
    "from functools import cache \n",
    "\n",
    "#count = 0\n",
    "@cache\n",
    "def addToPattern(remainingPattern):\n",
    "#    print (f\"Num towels so far: {len(towelsSoFar)}, remainingPattern: {remainingPattern}\")\n",
    "\n",
    "    if (remainingPattern == \"\"):\n",
    "        return 1\n",
    "    ret = 0\n",
    "    for t in towels:\n",
    "        if (t == remainingPattern[:len(t)]):\n",
    "#            newtowels = tuple(towelsSoFar) + (t,)\n",
    "            ret += addToPattern(remainingPattern[len(t):])\n",
    "    return ret\n",
    "\n",
    "count = 0\n",
    "for p in patterns:\n",
    "    print (f\"Computing pattern {p}...\")\n",
    "    count += addToPattern(p)\n",
    "#    if (ret != None): validpatterns.append(ret)\n",
    "\n",
    "print (count)"
   ]
  }
 ],
 "metadata": {
  "kernelspec": {
   "display_name": ".venv",
   "language": "python",
   "name": "python3"
  },
  "language_info": {
   "codemirror_mode": {
    "name": "ipython",
    "version": 3
   },
   "file_extension": ".py",
   "mimetype": "text/x-python",
   "name": "python",
   "nbconvert_exporter": "python",
   "pygments_lexer": "ipython3",
   "version": "3.13.0"
  }
 },
 "nbformat": 4,
 "nbformat_minor": 2
}
